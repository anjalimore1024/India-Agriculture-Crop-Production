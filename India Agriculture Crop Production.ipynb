{
 "cells": [
  {
   "cell_type": "code",
   "execution_count": 1,
   "id": "05cc450d",
   "metadata": {},
   "outputs": [],
   "source": [
    "# Import Important Libraries\n",
    "import ast\n",
    "import numpy as np\n",
    "import pandas as pd\n",
    "import seaborn as sns\n",
    "sns.set_style('darkgrid')\n",
    "import matplotlib.pyplot as plt\n",
    "%matplotlib inline\n",
    "import warnings\n",
    "warnings.filterwarnings('ignore')\n",
    "from sklearn import preprocessing\n",
    "from sklearn.preprocessing import MinMaxScaler\n",
    "from sklearn.ensemble import RandomForestRegressor\n",
    "from sklearn.model_selection import train_test_split \n",
    "from sklearn.metrics import r2_score"
   ]
  },
  {
   "cell_type": "code",
   "execution_count": 2,
   "id": "917afceb",
   "metadata": {},
   "outputs": [
    {
     "data": {
      "text/html": [
       "<div>\n",
       "<style scoped>\n",
       "    .dataframe tbody tr th:only-of-type {\n",
       "        vertical-align: middle;\n",
       "    }\n",
       "\n",
       "    .dataframe tbody tr th {\n",
       "        vertical-align: top;\n",
       "    }\n",
       "\n",
       "    .dataframe thead th {\n",
       "        text-align: right;\n",
       "    }\n",
       "</style>\n",
       "<table border=\"1\" class=\"dataframe\">\n",
       "  <thead>\n",
       "    <tr style=\"text-align: right;\">\n",
       "      <th></th>\n",
       "      <th>State</th>\n",
       "      <th>District</th>\n",
       "      <th>Crop</th>\n",
       "      <th>Year</th>\n",
       "      <th>Season</th>\n",
       "      <th>Area</th>\n",
       "      <th>Area Units</th>\n",
       "      <th>Production</th>\n",
       "      <th>Production Units</th>\n",
       "      <th>Yield</th>\n",
       "    </tr>\n",
       "  </thead>\n",
       "  <tbody>\n",
       "    <tr>\n",
       "      <th>0</th>\n",
       "      <td>Andaman and Nicobar Islands</td>\n",
       "      <td>NICOBARS</td>\n",
       "      <td>Arecanut</td>\n",
       "      <td>2001-02</td>\n",
       "      <td>Kharif</td>\n",
       "      <td>1254.0</td>\n",
       "      <td>Hectare</td>\n",
       "      <td>2061.0</td>\n",
       "      <td>Tonnes</td>\n",
       "      <td>1.643541</td>\n",
       "    </tr>\n",
       "    <tr>\n",
       "      <th>1</th>\n",
       "      <td>Andaman and Nicobar Islands</td>\n",
       "      <td>NICOBARS</td>\n",
       "      <td>Arecanut</td>\n",
       "      <td>2002-03</td>\n",
       "      <td>Whole Year</td>\n",
       "      <td>1258.0</td>\n",
       "      <td>Hectare</td>\n",
       "      <td>2083.0</td>\n",
       "      <td>Tonnes</td>\n",
       "      <td>1.655803</td>\n",
       "    </tr>\n",
       "    <tr>\n",
       "      <th>2</th>\n",
       "      <td>Andaman and Nicobar Islands</td>\n",
       "      <td>NICOBARS</td>\n",
       "      <td>Arecanut</td>\n",
       "      <td>2003-04</td>\n",
       "      <td>Whole Year</td>\n",
       "      <td>1261.0</td>\n",
       "      <td>Hectare</td>\n",
       "      <td>1525.0</td>\n",
       "      <td>Tonnes</td>\n",
       "      <td>1.209358</td>\n",
       "    </tr>\n",
       "    <tr>\n",
       "      <th>3</th>\n",
       "      <td>Andaman and Nicobar Islands</td>\n",
       "      <td>NORTH AND MIDDLE ANDAMAN</td>\n",
       "      <td>Arecanut</td>\n",
       "      <td>2001-02</td>\n",
       "      <td>Kharif</td>\n",
       "      <td>3100.0</td>\n",
       "      <td>Hectare</td>\n",
       "      <td>5239.0</td>\n",
       "      <td>Tonnes</td>\n",
       "      <td>1.690000</td>\n",
       "    </tr>\n",
       "    <tr>\n",
       "      <th>4</th>\n",
       "      <td>Andaman and Nicobar Islands</td>\n",
       "      <td>SOUTH ANDAMANS</td>\n",
       "      <td>Arecanut</td>\n",
       "      <td>2002-03</td>\n",
       "      <td>Whole Year</td>\n",
       "      <td>3105.0</td>\n",
       "      <td>Hectare</td>\n",
       "      <td>5267.0</td>\n",
       "      <td>Tonnes</td>\n",
       "      <td>1.696296</td>\n",
       "    </tr>\n",
       "    <tr>\n",
       "      <th>...</th>\n",
       "      <td>...</td>\n",
       "      <td>...</td>\n",
       "      <td>...</td>\n",
       "      <td>...</td>\n",
       "      <td>...</td>\n",
       "      <td>...</td>\n",
       "      <td>...</td>\n",
       "      <td>...</td>\n",
       "      <td>...</td>\n",
       "      <td>...</td>\n",
       "    </tr>\n",
       "    <tr>\n",
       "      <th>345402</th>\n",
       "      <td>Manipur</td>\n",
       "      <td>IMPHAL WEST</td>\n",
       "      <td>NaN</td>\n",
       "      <td>2019-20</td>\n",
       "      <td>Rabi</td>\n",
       "      <td>NaN</td>\n",
       "      <td>Hectare</td>\n",
       "      <td>NaN</td>\n",
       "      <td>Tonnes</td>\n",
       "      <td>NaN</td>\n",
       "    </tr>\n",
       "    <tr>\n",
       "      <th>345403</th>\n",
       "      <td>Manipur</td>\n",
       "      <td>SENAPATI</td>\n",
       "      <td>NaN</td>\n",
       "      <td>2019-20</td>\n",
       "      <td>Rabi</td>\n",
       "      <td>NaN</td>\n",
       "      <td>Hectare</td>\n",
       "      <td>NaN</td>\n",
       "      <td>Tonnes</td>\n",
       "      <td>NaN</td>\n",
       "    </tr>\n",
       "    <tr>\n",
       "      <th>345404</th>\n",
       "      <td>Manipur</td>\n",
       "      <td>TAMENGLONG</td>\n",
       "      <td>NaN</td>\n",
       "      <td>2019-20</td>\n",
       "      <td>Rabi</td>\n",
       "      <td>NaN</td>\n",
       "      <td>Hectare</td>\n",
       "      <td>NaN</td>\n",
       "      <td>Tonnes</td>\n",
       "      <td>NaN</td>\n",
       "    </tr>\n",
       "    <tr>\n",
       "      <th>345405</th>\n",
       "      <td>Manipur</td>\n",
       "      <td>THOUBAL</td>\n",
       "      <td>NaN</td>\n",
       "      <td>2019-20</td>\n",
       "      <td>Rabi</td>\n",
       "      <td>NaN</td>\n",
       "      <td>Hectare</td>\n",
       "      <td>NaN</td>\n",
       "      <td>Tonnes</td>\n",
       "      <td>NaN</td>\n",
       "    </tr>\n",
       "    <tr>\n",
       "      <th>345406</th>\n",
       "      <td>Manipur</td>\n",
       "      <td>UKHRUL</td>\n",
       "      <td>NaN</td>\n",
       "      <td>2019-20</td>\n",
       "      <td>Rabi</td>\n",
       "      <td>NaN</td>\n",
       "      <td>Hectare</td>\n",
       "      <td>NaN</td>\n",
       "      <td>Tonnes</td>\n",
       "      <td>NaN</td>\n",
       "    </tr>\n",
       "  </tbody>\n",
       "</table>\n",
       "<p>345407 rows × 10 columns</p>\n",
       "</div>"
      ],
      "text/plain": [
       "                              State                  District      Crop  \\\n",
       "0       Andaman and Nicobar Islands                  NICOBARS  Arecanut   \n",
       "1       Andaman and Nicobar Islands                  NICOBARS  Arecanut   \n",
       "2       Andaman and Nicobar Islands                  NICOBARS  Arecanut   \n",
       "3       Andaman and Nicobar Islands  NORTH AND MIDDLE ANDAMAN  Arecanut   \n",
       "4       Andaman and Nicobar Islands            SOUTH ANDAMANS  Arecanut   \n",
       "...                             ...                       ...       ...   \n",
       "345402                      Manipur               IMPHAL WEST       NaN   \n",
       "345403                      Manipur                  SENAPATI       NaN   \n",
       "345404                      Manipur                TAMENGLONG       NaN   \n",
       "345405                      Manipur                   THOUBAL       NaN   \n",
       "345406                      Manipur                    UKHRUL       NaN   \n",
       "\n",
       "           Year      Season    Area Area Units  Production Production Units  \\\n",
       "0       2001-02      Kharif  1254.0    Hectare      2061.0           Tonnes   \n",
       "1       2002-03  Whole Year  1258.0    Hectare      2083.0           Tonnes   \n",
       "2       2003-04  Whole Year  1261.0    Hectare      1525.0           Tonnes   \n",
       "3       2001-02      Kharif  3100.0    Hectare      5239.0           Tonnes   \n",
       "4       2002-03  Whole Year  3105.0    Hectare      5267.0           Tonnes   \n",
       "...         ...         ...     ...        ...         ...              ...   \n",
       "345402  2019-20        Rabi     NaN    Hectare         NaN           Tonnes   \n",
       "345403  2019-20        Rabi     NaN    Hectare         NaN           Tonnes   \n",
       "345404  2019-20        Rabi     NaN    Hectare         NaN           Tonnes   \n",
       "345405  2019-20        Rabi     NaN    Hectare         NaN           Tonnes   \n",
       "345406  2019-20        Rabi     NaN    Hectare         NaN           Tonnes   \n",
       "\n",
       "           Yield  \n",
       "0       1.643541  \n",
       "1       1.655803  \n",
       "2       1.209358  \n",
       "3       1.690000  \n",
       "4       1.696296  \n",
       "...          ...  \n",
       "345402       NaN  \n",
       "345403       NaN  \n",
       "345404       NaN  \n",
       "345405       NaN  \n",
       "345406       NaN  \n",
       "\n",
       "[345407 rows x 10 columns]"
      ]
     },
     "execution_count": 2,
     "metadata": {},
     "output_type": "execute_result"
    }
   ],
   "source": [
    "# Read the csv file\n",
    "data=pd.read_csv(\"D:\\DATA SCIENCE\\Data set\\India Agriculture Crop Production.csv\")\n",
    "data"
   ]
  },
  {
   "cell_type": "code",
   "execution_count": 3,
   "id": "3cae76e1",
   "metadata": {},
   "outputs": [
    {
     "data": {
      "text/plain": [
       "(345407, 10)"
      ]
     },
     "execution_count": 3,
     "metadata": {},
     "output_type": "execute_result"
    }
   ],
   "source": [
    "# To check the shape\n",
    "data.shape"
   ]
  },
  {
   "cell_type": "code",
   "execution_count": 4,
   "id": "f4862291",
   "metadata": {},
   "outputs": [
    {
     "name": "stdout",
     "output_type": "stream",
     "text": [
      "<class 'pandas.core.frame.DataFrame'>\n",
      "RangeIndex: 345407 entries, 0 to 345406\n",
      "Data columns (total 10 columns):\n",
      " #   Column            Non-Null Count   Dtype  \n",
      "---  ------            --------------   -----  \n",
      " 0   State             345407 non-null  object \n",
      " 1   District          345407 non-null  object \n",
      " 2   Crop              345375 non-null  object \n",
      " 3   Year              345407 non-null  object \n",
      " 4   Season            345406 non-null  object \n",
      " 5   Area              345374 non-null  float64\n",
      " 6   Area Units        345407 non-null  object \n",
      " 7   Production        340414 non-null  float64\n",
      " 8   Production Units  345407 non-null  object \n",
      " 9   Yield             345374 non-null  float64\n",
      "dtypes: float64(3), object(7)\n",
      "memory usage: 26.4+ MB\n"
     ]
    }
   ],
   "source": [
    "# To check the information of dataset\n",
    "data.info()"
   ]
  },
  {
   "cell_type": "code",
   "execution_count": 5,
   "id": "ac7028e4",
   "metadata": {},
   "outputs": [
    {
     "data": {
      "text/plain": [
       "State                  0\n",
       "District               0\n",
       "Crop                  32\n",
       "Year                   0\n",
       "Season                 1\n",
       "Area                  33\n",
       "Area Units             0\n",
       "Production          4993\n",
       "Production Units       0\n",
       "Yield                 33\n",
       "dtype: int64"
      ]
     },
     "execution_count": 5,
     "metadata": {},
     "output_type": "execute_result"
    }
   ],
   "source": [
    "# To check null values\n",
    "data.isnull().sum()"
   ]
  },
  {
   "cell_type": "code",
   "execution_count": 6,
   "id": "828a2a5b",
   "metadata": {},
   "outputs": [],
   "source": [
    "#  Drop rows with missing values and remove rows where the crop is \"Dry Ginger\"\n",
    "data.dropna(inplace=True)\n",
    "data = data[data['Crop']!='Dry Ginger']"
   ]
  },
  {
   "cell_type": "code",
   "execution_count": 7,
   "id": "f935c359",
   "metadata": {},
   "outputs": [
    {
     "data": {
      "text/plain": [
       "State               0\n",
       "District            0\n",
       "Crop                0\n",
       "Year                0\n",
       "Season              0\n",
       "Area                0\n",
       "Area Units          0\n",
       "Production          0\n",
       "Production Units    0\n",
       "Yield               0\n",
       "dtype: int64"
      ]
     },
     "execution_count": 7,
     "metadata": {},
     "output_type": "execute_result"
    }
   ],
   "source": [
    "data.isnull().sum()"
   ]
  },
  {
   "cell_type": "markdown",
   "id": "3eb3cd13",
   "metadata": {},
   "source": [
    "# Data Exploratory Analysis"
   ]
  },
  {
   "cell_type": "code",
   "execution_count": 8,
   "id": "d96727fc",
   "metadata": {},
   "outputs": [
    {
     "name": "stdout",
     "output_type": "stream",
     "text": [
      "Total Number of Unique States 36\n"
     ]
    },
    {
     "data": {
      "text/plain": [
       "Uttar Pradesh                  44635\n",
       "Madhya Pradesh                 29455\n",
       "Karnataka                      27322\n",
       "Bihar                          24686\n",
       "Rajasthan                      19743\n",
       "Assam                          18179\n",
       "Tamil Nadu                     18051\n",
       "Maharashtra                    17615\n",
       "Andhra Pradesh                 16162\n",
       "Odisha                         16101\n",
       "Chhattisgarh                   14732\n",
       "Gujarat                        13968\n",
       "West Bengal                    12580\n",
       "Haryana                         6931\n",
       "Uttarakhand                     6628\n",
       "Nagaland                        5674\n",
       "Jharkhand                       4991\n",
       "Himachal Pradesh                4974\n",
       "Telangana                       4662\n",
       "Kerala                          4642\n",
       "Arunachal Pradesh               4344\n",
       "Jammu and Kashmir               4342\n",
       "Meghalaya                       4322\n",
       "Punjab                          4098\n",
       "Manipur                         3092\n",
       "Tripura                         2557\n",
       "Mizoram                         2108\n",
       "Puducherry                      1123\n",
       "Sikkim                           876\n",
       "Andaman and Nicobar Islands      722\n",
       "Goa                              398\n",
       "Dadra and Nagar Haveli           329\n",
       "Delhi                            203\n",
       "Chandigarh                       123\n",
       "Daman and Diu                     42\n",
       "Laddakh                            1\n",
       "Name: State, dtype: int64"
      ]
     },
     "execution_count": 8,
     "metadata": {},
     "output_type": "execute_result"
    }
   ],
   "source": [
    "#  Print the total number of unique states and display the count of each state\n",
    "print(\"Total Number of Unique States\",data['State'].value_counts().shape[0])\n",
    "data['State'].value_counts()"
   ]
  },
  {
   "cell_type": "code",
   "execution_count": 9,
   "id": "9824e5fc",
   "metadata": {},
   "outputs": [
    {
     "data": {
      "text/plain": [
       "<pandas.core.groupby.generic.DataFrameGroupBy object at 0x000001D0983C1A00>"
      ]
     },
     "execution_count": 9,
     "metadata": {},
     "output_type": "execute_result"
    }
   ],
   "source": [
    "# Group the data by state\n",
    "g =data.groupby('State')\n",
    "g"
   ]
  },
  {
   "cell_type": "code",
   "execution_count": 10,
   "id": "410457cb",
   "metadata": {},
   "outputs": [
    {
     "data": {
      "text/html": [
       "<div>\n",
       "<style scoped>\n",
       "    .dataframe tbody tr th:only-of-type {\n",
       "        vertical-align: middle;\n",
       "    }\n",
       "\n",
       "    .dataframe tbody tr th {\n",
       "        vertical-align: top;\n",
       "    }\n",
       "\n",
       "    .dataframe thead th {\n",
       "        text-align: right;\n",
       "    }\n",
       "</style>\n",
       "<table border=\"1\" class=\"dataframe\">\n",
       "  <thead>\n",
       "    <tr style=\"text-align: right;\">\n",
       "      <th></th>\n",
       "      <th>State</th>\n",
       "      <th>District</th>\n",
       "      <th>Crop</th>\n",
       "      <th>Year</th>\n",
       "      <th>Season</th>\n",
       "      <th>Area</th>\n",
       "      <th>Area Units</th>\n",
       "      <th>Production</th>\n",
       "      <th>Production Units</th>\n",
       "      <th>Yield</th>\n",
       "    </tr>\n",
       "  </thead>\n",
       "  <tbody>\n",
       "    <tr>\n",
       "      <th>5231</th>\n",
       "      <td>Bihar</td>\n",
       "      <td>ARARIA</td>\n",
       "      <td>Arhar/Tur</td>\n",
       "      <td>2001-02</td>\n",
       "      <td>Kharif</td>\n",
       "      <td>483.0</td>\n",
       "      <td>Hectare</td>\n",
       "      <td>677.0</td>\n",
       "      <td>Tonnes</td>\n",
       "      <td>1.401656</td>\n",
       "    </tr>\n",
       "    <tr>\n",
       "      <th>5232</th>\n",
       "      <td>Bihar</td>\n",
       "      <td>ARARIA</td>\n",
       "      <td>Arhar/Tur</td>\n",
       "      <td>2002-03</td>\n",
       "      <td>Kharif</td>\n",
       "      <td>302.0</td>\n",
       "      <td>Hectare</td>\n",
       "      <td>369.0</td>\n",
       "      <td>Tonnes</td>\n",
       "      <td>1.221854</td>\n",
       "    </tr>\n",
       "    <tr>\n",
       "      <th>5233</th>\n",
       "      <td>Bihar</td>\n",
       "      <td>ARARIA</td>\n",
       "      <td>Arhar/Tur</td>\n",
       "      <td>2003-04</td>\n",
       "      <td>Kharif</td>\n",
       "      <td>2901.0</td>\n",
       "      <td>Hectare</td>\n",
       "      <td>3522.0</td>\n",
       "      <td>Tonnes</td>\n",
       "      <td>1.214064</td>\n",
       "    </tr>\n",
       "    <tr>\n",
       "      <th>5234</th>\n",
       "      <td>Bihar</td>\n",
       "      <td>ARWAL</td>\n",
       "      <td>Arhar/Tur</td>\n",
       "      <td>2003-04</td>\n",
       "      <td>Kharif</td>\n",
       "      <td>76.0</td>\n",
       "      <td>Hectare</td>\n",
       "      <td>96.0</td>\n",
       "      <td>Tonnes</td>\n",
       "      <td>1.263158</td>\n",
       "    </tr>\n",
       "    <tr>\n",
       "      <th>5235</th>\n",
       "      <td>Bihar</td>\n",
       "      <td>AURANGABAD</td>\n",
       "      <td>Arhar/Tur</td>\n",
       "      <td>2001-02</td>\n",
       "      <td>Kharif</td>\n",
       "      <td>562.0</td>\n",
       "      <td>Hectare</td>\n",
       "      <td>724.0</td>\n",
       "      <td>Tonnes</td>\n",
       "      <td>1.288256</td>\n",
       "    </tr>\n",
       "    <tr>\n",
       "      <th>...</th>\n",
       "      <td>...</td>\n",
       "      <td>...</td>\n",
       "      <td>...</td>\n",
       "      <td>...</td>\n",
       "      <td>...</td>\n",
       "      <td>...</td>\n",
       "      <td>...</td>\n",
       "      <td>...</td>\n",
       "      <td>...</td>\n",
       "      <td>...</td>\n",
       "    </tr>\n",
       "    <tr>\n",
       "      <th>308999</th>\n",
       "      <td>Bihar</td>\n",
       "      <td>VAISHALI</td>\n",
       "      <td>Wheat</td>\n",
       "      <td>1998-99</td>\n",
       "      <td>Rabi</td>\n",
       "      <td>45231.0</td>\n",
       "      <td>Hectare</td>\n",
       "      <td>114786.0</td>\n",
       "      <td>Tonnes</td>\n",
       "      <td>2.537773</td>\n",
       "    </tr>\n",
       "    <tr>\n",
       "      <th>309000</th>\n",
       "      <td>Bihar</td>\n",
       "      <td>VAISHALI</td>\n",
       "      <td>Wheat</td>\n",
       "      <td>1999-00</td>\n",
       "      <td>Rabi</td>\n",
       "      <td>40889.0</td>\n",
       "      <td>Hectare</td>\n",
       "      <td>98847.0</td>\n",
       "      <td>Tonnes</td>\n",
       "      <td>2.417447</td>\n",
       "    </tr>\n",
       "    <tr>\n",
       "      <th>309001</th>\n",
       "      <td>Bihar</td>\n",
       "      <td>VAISHALI</td>\n",
       "      <td>Wheat</td>\n",
       "      <td>2000-01</td>\n",
       "      <td>Rabi</td>\n",
       "      <td>43299.0</td>\n",
       "      <td>Hectare</td>\n",
       "      <td>109076.0</td>\n",
       "      <td>Tonnes</td>\n",
       "      <td>2.519134</td>\n",
       "    </tr>\n",
       "    <tr>\n",
       "      <th>309002</th>\n",
       "      <td>Bihar</td>\n",
       "      <td>WEST SINGHBHUM</td>\n",
       "      <td>Wheat</td>\n",
       "      <td>1997-98</td>\n",
       "      <td>Rabi</td>\n",
       "      <td>379.0</td>\n",
       "      <td>Hectare</td>\n",
       "      <td>600.0</td>\n",
       "      <td>Tonnes</td>\n",
       "      <td>1.583113</td>\n",
       "    </tr>\n",
       "    <tr>\n",
       "      <th>309003</th>\n",
       "      <td>Bihar</td>\n",
       "      <td>WEST SINGHBHUM</td>\n",
       "      <td>Wheat</td>\n",
       "      <td>1998-99</td>\n",
       "      <td>Rabi</td>\n",
       "      <td>357.0</td>\n",
       "      <td>Hectare</td>\n",
       "      <td>634.0</td>\n",
       "      <td>Tonnes</td>\n",
       "      <td>1.775910</td>\n",
       "    </tr>\n",
       "  </tbody>\n",
       "</table>\n",
       "<p>24686 rows × 10 columns</p>\n",
       "</div>"
      ],
      "text/plain": [
       "        State        District       Crop     Year  Season     Area Area Units  \\\n",
       "5231    Bihar          ARARIA  Arhar/Tur  2001-02  Kharif    483.0    Hectare   \n",
       "5232    Bihar          ARARIA  Arhar/Tur  2002-03  Kharif    302.0    Hectare   \n",
       "5233    Bihar          ARARIA  Arhar/Tur  2003-04  Kharif   2901.0    Hectare   \n",
       "5234    Bihar           ARWAL  Arhar/Tur  2003-04  Kharif     76.0    Hectare   \n",
       "5235    Bihar      AURANGABAD  Arhar/Tur  2001-02  Kharif    562.0    Hectare   \n",
       "...       ...             ...        ...      ...     ...      ...        ...   \n",
       "308999  Bihar        VAISHALI      Wheat  1998-99    Rabi  45231.0    Hectare   \n",
       "309000  Bihar        VAISHALI      Wheat  1999-00    Rabi  40889.0    Hectare   \n",
       "309001  Bihar        VAISHALI      Wheat  2000-01    Rabi  43299.0    Hectare   \n",
       "309002  Bihar  WEST SINGHBHUM      Wheat  1997-98    Rabi    379.0    Hectare   \n",
       "309003  Bihar  WEST SINGHBHUM      Wheat  1998-99    Rabi    357.0    Hectare   \n",
       "\n",
       "        Production Production Units     Yield  \n",
       "5231         677.0           Tonnes  1.401656  \n",
       "5232         369.0           Tonnes  1.221854  \n",
       "5233        3522.0           Tonnes  1.214064  \n",
       "5234          96.0           Tonnes  1.263158  \n",
       "5235         724.0           Tonnes  1.288256  \n",
       "...            ...              ...       ...  \n",
       "308999    114786.0           Tonnes  2.537773  \n",
       "309000     98847.0           Tonnes  2.417447  \n",
       "309001    109076.0           Tonnes  2.519134  \n",
       "309002       600.0           Tonnes  1.583113  \n",
       "309003       634.0           Tonnes  1.775910  \n",
       "\n",
       "[24686 rows x 10 columns]"
      ]
     },
     "execution_count": 10,
     "metadata": {},
     "output_type": "execute_result"
    }
   ],
   "source": [
    "# Get the data for a specific group (e.g., Bihar)\n",
    "g_bihar = g.get_group('Bihar')\n",
    "g_bihar"
   ]
  },
  {
   "cell_type": "code",
   "execution_count": 11,
   "id": "dcfa3b89",
   "metadata": {},
   "outputs": [
    {
     "data": {
      "text/html": [
       "<div>\n",
       "<style scoped>\n",
       "    .dataframe tbody tr th:only-of-type {\n",
       "        vertical-align: middle;\n",
       "    }\n",
       "\n",
       "    .dataframe tbody tr th {\n",
       "        vertical-align: top;\n",
       "    }\n",
       "\n",
       "    .dataframe thead th {\n",
       "        text-align: right;\n",
       "    }\n",
       "</style>\n",
       "<table border=\"1\" class=\"dataframe\">\n",
       "  <thead>\n",
       "    <tr style=\"text-align: right;\">\n",
       "      <th></th>\n",
       "      <th>State</th>\n",
       "      <th>District</th>\n",
       "      <th>Crop</th>\n",
       "      <th>Year</th>\n",
       "      <th>Season</th>\n",
       "      <th>Area</th>\n",
       "      <th>Area Units</th>\n",
       "      <th>Production</th>\n",
       "      <th>Production Units</th>\n",
       "      <th>Yield</th>\n",
       "    </tr>\n",
       "  </thead>\n",
       "  <tbody>\n",
       "    <tr>\n",
       "      <th>5241</th>\n",
       "      <td>Bihar</td>\n",
       "      <td>BEGUSARAI</td>\n",
       "      <td>Arhar/Tur</td>\n",
       "      <td>2001-02</td>\n",
       "      <td>Kharif</td>\n",
       "      <td>1288.0</td>\n",
       "      <td>Hectare</td>\n",
       "      <td>1826.0</td>\n",
       "      <td>Tonnes</td>\n",
       "      <td>1.417702</td>\n",
       "    </tr>\n",
       "    <tr>\n",
       "      <th>5242</th>\n",
       "      <td>Bihar</td>\n",
       "      <td>BEGUSARAI</td>\n",
       "      <td>Arhar/Tur</td>\n",
       "      <td>2002-03</td>\n",
       "      <td>Kharif</td>\n",
       "      <td>1327.0</td>\n",
       "      <td>Hectare</td>\n",
       "      <td>1839.0</td>\n",
       "      <td>Tonnes</td>\n",
       "      <td>1.385833</td>\n",
       "    </tr>\n",
       "    <tr>\n",
       "      <th>5243</th>\n",
       "      <td>Bihar</td>\n",
       "      <td>BEGUSARAI</td>\n",
       "      <td>Arhar/Tur</td>\n",
       "      <td>2003-04</td>\n",
       "      <td>Kharif</td>\n",
       "      <td>1228.0</td>\n",
       "      <td>Hectare</td>\n",
       "      <td>1006.0</td>\n",
       "      <td>Tonnes</td>\n",
       "      <td>0.819218</td>\n",
       "    </tr>\n",
       "    <tr>\n",
       "      <th>5382</th>\n",
       "      <td>Bihar</td>\n",
       "      <td>BEGUSARAI</td>\n",
       "      <td>Banana</td>\n",
       "      <td>2001-02</td>\n",
       "      <td>Whole Year</td>\n",
       "      <td>278.0</td>\n",
       "      <td>Hectare</td>\n",
       "      <td>23786.0</td>\n",
       "      <td>Tonnes</td>\n",
       "      <td>85.561151</td>\n",
       "    </tr>\n",
       "    <tr>\n",
       "      <th>5383</th>\n",
       "      <td>Bihar</td>\n",
       "      <td>BEGUSARAI</td>\n",
       "      <td>Banana</td>\n",
       "      <td>2002-03</td>\n",
       "      <td>Whole Year</td>\n",
       "      <td>306.0</td>\n",
       "      <td>Hectare</td>\n",
       "      <td>24560.0</td>\n",
       "      <td>Tonnes</td>\n",
       "      <td>80.261438</td>\n",
       "    </tr>\n",
       "    <tr>\n",
       "      <th>...</th>\n",
       "      <td>...</td>\n",
       "      <td>...</td>\n",
       "      <td>...</td>\n",
       "      <td>...</td>\n",
       "      <td>...</td>\n",
       "      <td>...</td>\n",
       "      <td>...</td>\n",
       "      <td>...</td>\n",
       "      <td>...</td>\n",
       "      <td>...</td>\n",
       "    </tr>\n",
       "    <tr>\n",
       "      <th>308736</th>\n",
       "      <td>Bihar</td>\n",
       "      <td>BEGUSARAI</td>\n",
       "      <td>Urad</td>\n",
       "      <td>2000-01</td>\n",
       "      <td>Kharif</td>\n",
       "      <td>1171.0</td>\n",
       "      <td>Hectare</td>\n",
       "      <td>729.0</td>\n",
       "      <td>Tonnes</td>\n",
       "      <td>0.622545</td>\n",
       "    </tr>\n",
       "    <tr>\n",
       "      <th>308832</th>\n",
       "      <td>Bihar</td>\n",
       "      <td>BEGUSARAI</td>\n",
       "      <td>Wheat</td>\n",
       "      <td>1997-98</td>\n",
       "      <td>Rabi</td>\n",
       "      <td>59668.0</td>\n",
       "      <td>Hectare</td>\n",
       "      <td>109241.0</td>\n",
       "      <td>Tonnes</td>\n",
       "      <td>1.830814</td>\n",
       "    </tr>\n",
       "    <tr>\n",
       "      <th>308833</th>\n",
       "      <td>Bihar</td>\n",
       "      <td>BEGUSARAI</td>\n",
       "      <td>Wheat</td>\n",
       "      <td>1998-99</td>\n",
       "      <td>Rabi</td>\n",
       "      <td>57520.0</td>\n",
       "      <td>Hectare</td>\n",
       "      <td>118548.0</td>\n",
       "      <td>Tonnes</td>\n",
       "      <td>2.060987</td>\n",
       "    </tr>\n",
       "    <tr>\n",
       "      <th>308834</th>\n",
       "      <td>Bihar</td>\n",
       "      <td>BEGUSARAI</td>\n",
       "      <td>Wheat</td>\n",
       "      <td>1999-00</td>\n",
       "      <td>Rabi</td>\n",
       "      <td>61704.0</td>\n",
       "      <td>Hectare</td>\n",
       "      <td>129568.0</td>\n",
       "      <td>Tonnes</td>\n",
       "      <td>2.099831</td>\n",
       "    </tr>\n",
       "    <tr>\n",
       "      <th>308835</th>\n",
       "      <td>Bihar</td>\n",
       "      <td>BEGUSARAI</td>\n",
       "      <td>Wheat</td>\n",
       "      <td>2000-01</td>\n",
       "      <td>Rabi</td>\n",
       "      <td>60737.0</td>\n",
       "      <td>Hectare</td>\n",
       "      <td>145269.0</td>\n",
       "      <td>Tonnes</td>\n",
       "      <td>2.391771</td>\n",
       "    </tr>\n",
       "  </tbody>\n",
       "</table>\n",
       "<p>740 rows × 10 columns</p>\n",
       "</div>"
      ],
      "text/plain": [
       "        State   District       Crop     Year      Season     Area Area Units  \\\n",
       "5241    Bihar  BEGUSARAI  Arhar/Tur  2001-02      Kharif   1288.0    Hectare   \n",
       "5242    Bihar  BEGUSARAI  Arhar/Tur  2002-03      Kharif   1327.0    Hectare   \n",
       "5243    Bihar  BEGUSARAI  Arhar/Tur  2003-04      Kharif   1228.0    Hectare   \n",
       "5382    Bihar  BEGUSARAI     Banana  2001-02  Whole Year    278.0    Hectare   \n",
       "5383    Bihar  BEGUSARAI     Banana  2002-03  Whole Year    306.0    Hectare   \n",
       "...       ...        ...        ...      ...         ...      ...        ...   \n",
       "308736  Bihar  BEGUSARAI       Urad  2000-01      Kharif   1171.0    Hectare   \n",
       "308832  Bihar  BEGUSARAI      Wheat  1997-98        Rabi  59668.0    Hectare   \n",
       "308833  Bihar  BEGUSARAI      Wheat  1998-99        Rabi  57520.0    Hectare   \n",
       "308834  Bihar  BEGUSARAI      Wheat  1999-00        Rabi  61704.0    Hectare   \n",
       "308835  Bihar  BEGUSARAI      Wheat  2000-01        Rabi  60737.0    Hectare   \n",
       "\n",
       "        Production Production Units      Yield  \n",
       "5241        1826.0           Tonnes   1.417702  \n",
       "5242        1839.0           Tonnes   1.385833  \n",
       "5243        1006.0           Tonnes   0.819218  \n",
       "5382       23786.0           Tonnes  85.561151  \n",
       "5383       24560.0           Tonnes  80.261438  \n",
       "...            ...              ...        ...  \n",
       "308736       729.0           Tonnes   0.622545  \n",
       "308832    109241.0           Tonnes   1.830814  \n",
       "308833    118548.0           Tonnes   2.060987  \n",
       "308834    129568.0           Tonnes   2.099831  \n",
       "308835    145269.0           Tonnes   2.391771  \n",
       "\n",
       "[740 rows x 10 columns]"
      ]
     },
     "execution_count": 11,
     "metadata": {},
     "output_type": "execute_result"
    }
   ],
   "source": [
    "# Get the data for a specific district (e.g., BEGUSARAI) within the Bihar group\n",
    "g_bihar[g_bihar['District']=='BEGUSARAI']"
   ]
  },
  {
   "cell_type": "code",
   "execution_count": 12,
   "id": "3c8109ec",
   "metadata": {},
   "outputs": [
    {
     "name": "stdout",
     "output_type": "stream",
     "text": [
      "Total Number of Unique Crops 55\n"
     ]
    },
    {
     "data": {
      "text/plain": [
       "Rice                     21573\n",
       "Maize                    20329\n",
       "Moong(Green Gram)        14813\n",
       "Urad                     14389\n",
       "Sesamum                  12744\n",
       "Groundnut                12515\n",
       "Wheat                    11219\n",
       "Rapeseed &Mustard        10919\n",
       "Sugarcane                10826\n",
       "Arhar/Tur                10774\n",
       "Potato                   10729\n",
       "Onion                    10621\n",
       "Gram                     10330\n",
       "Jowar                     9682\n",
       "Dry chillies              8890\n",
       "Bajra                     7740\n",
       "Peas & beans (Pulses)     7179\n",
       "Sunflower                 7104\n",
       "Small millets             6859\n",
       "Cotton(lint)              6318\n",
       "Masoor                    6296\n",
       "Turmeric                  5916\n",
       "Barley                    5808\n",
       "Linseed                   5793\n",
       "Ragi                      5725\n",
       "Sweet potato              5656\n",
       "Other Kharif pulses       5590\n",
       "Horse-gram                5294\n",
       "Garlic                    4958\n",
       "Coriander                 4954\n",
       "Soyabean                  4953\n",
       "Other Rabi pulses         4728\n",
       "Ginger                    4652\n",
       "Castor seed               4496\n",
       "Banana                    4393\n",
       "Tobacco                   3513\n",
       "Coconut                   2891\n",
       "Sannhamp                  2738\n",
       "Niger seed                2707\n",
       "Mesta                     2369\n",
       "Tapioca                   2264\n",
       "Arecanut                  2150\n",
       "Guar seed                 2045\n",
       "Jute                      1837\n",
       "Khesari                   1753\n",
       "Safflower                 1727\n",
       "Cowpea(Lobia)             1697\n",
       "Cashewnut                 1519\n",
       "Black pepper              1370\n",
       "Other Cereals             1338\n",
       "Moth                      1287\n",
       "other oilseeds            1190\n",
       "Oilseeds total             702\n",
       "Cardamom                   483\n",
       "Other Summer Pulses         66\n",
       "Name: Crop, dtype: int64"
      ]
     },
     "execution_count": 12,
     "metadata": {},
     "output_type": "execute_result"
    }
   ],
   "source": [
    "# Print the total number of unique crops and display the count of each crop\n",
    "print(\"Total Number of Unique Crops\",data['Crop'].value_counts().shape[0])\n",
    "data['Crop'].value_counts()"
   ]
  },
  {
   "cell_type": "code",
   "execution_count": 13,
   "id": "3cb9991e",
   "metadata": {},
   "outputs": [
    {
     "data": {
      "text/plain": [
       "Kharif        136165\n",
       "Rabi           99804\n",
       "Whole Year     67265\n",
       "Summer         21972\n",
       "Winter          8238\n",
       "Autumn          6967\n",
       "Name: Season, dtype: int64"
      ]
     },
     "execution_count": 13,
     "metadata": {},
     "output_type": "execute_result"
    }
   ],
   "source": [
    "# Display the count of each season\n",
    "data['Season'].value_counts()"
   ]
  },
  {
   "cell_type": "code",
   "execution_count": 14,
   "id": "6f0f1f15",
   "metadata": {},
   "outputs": [
    {
     "data": {
      "text/plain": [
       "Hectare    340411\n",
       "Name: Area Units, dtype: int64"
      ]
     },
     "execution_count": 14,
     "metadata": {},
     "output_type": "execute_result"
    }
   ],
   "source": [
    "# Display the count of each unit of measurement for area\n",
    "data['Area Units'].value_counts()"
   ]
  },
  {
   "cell_type": "code",
   "execution_count": 15,
   "id": "12d7315e",
   "metadata": {},
   "outputs": [
    {
     "data": {
      "text/plain": [
       "Tonnes    326996\n",
       "Bales      10524\n",
       "Nuts        2891\n",
       "Name: Production Units, dtype: int64"
      ]
     },
     "execution_count": 15,
     "metadata": {},
     "output_type": "execute_result"
    }
   ],
   "source": [
    "# Display the count of each unit of measurement for production\n",
    "data['Production Units'].value_counts()"
   ]
  },
  {
   "cell_type": "code",
   "execution_count": 16,
   "id": "66c6ce20",
   "metadata": {},
   "outputs": [],
   "source": [
    "# Filter the dataset for 'Tonnes' production units\n",
    "data = data[data['Production Units']=='Tonnes']"
   ]
  },
  {
   "cell_type": "markdown",
   "id": "720a40c9",
   "metadata": {},
   "source": [
    "# Data Visualization"
   ]
  },
  {
   "cell_type": "code",
   "execution_count": 17,
   "id": "8b94296a",
   "metadata": {},
   "outputs": [
    {
     "data": {
      "text/plain": [
       "<AxesSubplot:xlabel='Season', ylabel='count'>"
      ]
     },
     "execution_count": 17,
     "metadata": {},
     "output_type": "execute_result"
    },
    {
     "data": {
      "image/png": "[encoded data removed]",
      "text/plain": [
       "<Figure size 432x288 with 1 Axes>"
      ]
     },
     "metadata": {
      "needs_background": "light"
     },
     "output_type": "display_data"
    }
   ],
   "source": [
    "# Create a countplot of crops by season\n",
    "sns.countplot(x ='Season', data = data, palette ='plasma')"
   ]
  },
  {
   "cell_type": "markdown",
   "id": "a49a0f02",
   "metadata": {},
   "source": [
    "Kharif and Rabi Crops quantity are more than other seasons crops."
   ]
  },
  {
   "cell_type": "code",
   "execution_count": 18,
   "id": "8f5761c2",
   "metadata": {},
   "outputs": [
    {
     "data": {
      "text/plain": [
       "<AxesSubplot:xlabel='Season', ylabel='Production'>"
      ]
     },
     "execution_count": 18,
     "metadata": {},
     "output_type": "execute_result"
    },
    {
     "data": {
      "image/png": "[encoded data removed]",
      "text/plain": [
       "<Figure size 432x288 with 1 Axes>"
      ]
     },
     "metadata": {
      "needs_background": "light"
     },
     "output_type": "display_data"
    }
   ],
   "source": [
    "# Create a barplot showing the production by season\n",
    "sns.barplot(x='Season',y='Production',data=data)"
   ]
  },
  {
   "cell_type": "markdown",
   "id": "a9f5336c",
   "metadata": {},
   "source": [
    "As we can see from the above graph we understant that whole Year crops have maximum production."
   ]
  },
  {
   "cell_type": "code",
   "execution_count": 19,
   "id": "19a70490",
   "metadata": {},
   "outputs": [
    {
     "data": {
      "image/png": "[encoded data removed]",
      "text/plain": [
       "<Figure size 1584x1296 with 1 Axes>"
      ]
     },
     "metadata": {
      "needs_background": "light"
     },
     "output_type": "display_data"
    }
   ],
   "source": [
    "# Create a countplot of crops\n",
    "plt.figure(figsize=(22,18)) # this creates a figure 22 inch wide, 18 inch high\n",
    "\n",
    "ax = sns.countplot(y=\"Crop\", data=data)\n",
    "\n",
    "plt.setp(ax.get_xticklabels(), rotation=0,fontsize=20)\n",
    "plt.tight_layout()\n",
    "plt.show()"
   ]
  },
  {
   "cell_type": "markdown",
   "id": "c5b26a76",
   "metadata": {},
   "source": [
    "Since,Coconut is way ahead from other crops in terms of Yield. So for visualization of other crops as well we have to ignore coconut."
   ]
  },
  {
   "cell_type": "markdown",
   "id": "7760da91",
   "metadata": {},
   "source": [
    "# Recommendation System"
   ]
  },
  {
   "cell_type": "code",
   "execution_count": 20,
   "id": "735a46bd",
   "metadata": {},
   "outputs": [],
   "source": [
    "# Select relevant columns\n",
    "data=data[['State','District','Crop','Season','Area','Production']]"
   ]
  },
  {
   "cell_type": "code",
   "execution_count": 21,
   "id": "8ce77d23",
   "metadata": {},
   "outputs": [],
   "source": [
    "# Encode categorical columns\n",
    "category_col=['State','District','Crop','Season',]\n",
    "labelEncoder=preprocessing.LabelEncoder()\n",
    "mapping_dict={}"
   ]
  },
  {
   "cell_type": "code",
   "execution_count": 22,
   "id": "c5a49c20",
   "metadata": {},
   "outputs": [
    {
     "name": "stdout",
     "output_type": "stream",
     "text": [
      "{'State': {'Andaman and Nicobar Islands': 0, 'Andhra Pradesh': 1, 'Arunachal Pradesh': 2, 'Assam': 3, 'Bihar': 4, 'Chandigarh': 5, 'Chhattisgarh': 6, 'Dadra and Nagar Haveli': 7, 'Daman and Diu': 8, 'Delhi': 9, 'Goa': 10, 'Gujarat': 11, 'Haryana': 12, 'Himachal Pradesh': 13, 'Jammu and Kashmir': 14, 'Jharkhand': 15, 'Karnataka': 16, 'Kerala': 17, 'Laddakh': 18, 'Madhya Pradesh': 19, 'Maharashtra': 20, 'Manipur': 21, 'Meghalaya': 22, 'Mizoram': 23, 'Nagaland': 24, 'Odisha': 25, 'Puducherry': 26, 'Punjab': 27, 'Rajasthan': 28, 'Sikkim': 29, 'Tamil Nadu': 30, 'Telangana': 31, 'Tripura': 32, 'Uttar Pradesh': 33, 'Uttarakhand': 34, 'West Bengal': 35}, 'District': {'24 PARAGANAS NORTH': 0, '24 PARAGANAS SOUTH': 1, 'ADILABAD': 2, 'AGAR MALWA': 3, 'AGRA': 4, 'AHMADABAD': 5, 'AHMEDNAGAR': 6, 'AIZAWL': 7, 'AJMER': 8, 'AKOLA': 9, 'ALAPPUZHA': 10, 'ALIGARH': 11, 'ALIPURDUAR': 12, 'ALIRAJPUR': 13, 'ALLAHABAD': 14, 'ALMORA': 15, 'ALWAR': 16, 'AMBALA': 17, 'AMBEDKAR NAGAR': 18, 'AMETHI': 19, 'AMRAVATI': 20, 'AMRELI': 21, 'AMRITSAR': 22, 'AMROHA': 23, 'ANAND': 24, 'ANANTAPUR': 25, 'ANANTNAG': 26, 'ANJAW': 27, 'ANUGUL': 28, 'ANUPPUR': 29, 'ARARIA': 30, 'ARAVALLI': 31, 'ARIYALUR': 32, 'ARWAL': 33, 'ASHOKNAGAR': 34, 'AURAIYA': 35, 'AURANGABAD': 36, 'AZAMGARH': 37, 'Andaman and Nicobar Islands': 38, 'BADGAM': 39, 'BAGALKOT': 40, 'BAGALKOTE': 41, 'BAGESHWAR': 42, 'BAGHPAT': 43, 'BAHRAICH': 44, 'BAKSA': 45, 'BALAGHAT': 46, 'BALANGIR': 47, 'BALESHWAR': 48, 'BALLARI': 49, 'BALLIA': 50, 'BALOD': 51, 'BALODA BAZAR': 52, 'BALRAMPUR': 53, 'BANAS KANTHA': 54, 'BANDA': 55, 'BANDIPORA': 56, 'BANGALORE RURAL': 57, 'BANKA': 58, 'BANKURA': 59, 'BANSWARA': 60, 'BARABANKI': 61, 'BARAMULLA': 62, 'BARAN': 63, 'BAREILLY': 64, 'BARGARH': 65, 'BARMER': 66, 'BARNALA': 67, 'BARPETA': 68, 'BARWANI': 69, 'BASTAR': 70, 'BASTI': 71, 'BATHINDA': 72, 'BEED': 73, 'BEGUSARAI': 74, 'BELAGAVI': 75, 'BELGAUM': 76, 'BELLARY': 77, 'BEMETARA': 78, 'BENGALURU URBAN': 79, 'BETUL': 80, 'BHADRADRI': 81, 'BHADRAK': 82, 'BHAGALPUR': 83, 'BHANDARA': 84, 'BHARATPUR': 85, 'BHARUCH': 86, 'BHAVNAGAR': 87, 'BHILWARA': 88, 'BHIND': 89, 'BHIWANI': 90, 'BHOJPUR': 91, 'BHOPAL': 92, 'BIDAR': 93, 'BIJAPUR': 94, 'BIJNOR': 95, 'BIKANER': 96, 'BILASPUR': 97, 'BIRBHUM': 98, 'BISHNUPUR': 99, 'BISWANATH': 100, 'BOKARO': 101, 'BONGAIGAON': 102, 'BOTAD': 103, 'BOUDH': 104, 'BUDAUN': 105, 'BULANDSHAHR': 106, 'BULDHANA': 107, 'BUNDI': 108, 'BURHANPUR': 109, 'BUXAR': 110, 'CACHAR': 111, 'CHAMARAJANAGAR': 112, 'CHAMARAJANAGARA': 113, 'CHAMBA': 114, 'CHAMOLI': 115, 'CHAMPAWAT': 116, 'CHAMPHAI': 117, 'CHANDAULI': 118, 'CHANDEL': 119, 'CHANDIGARH': 120, 'CHANDRAPUR': 121, 'CHANGLANG': 122, 'CHARAIDEO': 123, 'CHARKI DADRI': 124, 'CHATRA': 125, 'CHENGALPATTU': 126, 'CHENNAI': 127, 'CHHATARPUR': 128, 'CHHINDWARA': 129, 'CHHOTAUDEPUR': 130, 'CHIKBALLAPUR': 131, 'CHIKKABALLAPURA': 132, 'CHIKKAMAGALURU': 133, 'CHIKMAGALUR': 134, 'CHIRANG': 135, 'CHITRADURGA': 136, 'CHITRAKOOT': 137, 'CHITTOOR': 138, 'CHITTORGARH': 139, 'CHURACHANDPUR': 140, 'CHURU': 141, 'COIMBATORE': 142, 'COOCHBEHAR': 143, 'CUDDALORE': 144, 'CUTTACK': 145, 'DADRA AND NAGAR HAVELI': 146, 'DAKSHIN KANNAD': 147, 'DAKSHINA KANNADA': 148, 'DAMAN': 149, 'DAMOH': 150, 'DANG': 151, 'DANTEWADA': 152, 'DARBHANGA': 153, 'DARJEELING': 154, 'DARRANG': 155, 'DATIA': 156, 'DAUSA': 157, 'DAVANGERE': 158, 'DEHRADUN': 159, 'DELHI_TOTAL': 160, 'DEOGARH': 161, 'DEOGHAR': 162, 'DEORIA': 163, 'DEVBHUMI DWARKA': 164, 'DEWAS': 165, 'DHALAI': 166, 'DHAMTARI': 167, 'DHANBAD': 168, 'DHAR': 169, 'DHARMAPURI': 170, 'DHARWAD': 171, 'DHEMAJI': 172, 'DHENKANAL': 173, 'DHOLPUR': 174, 'DHUBRI': 175, 'DHULE': 176, 'DIBANG VALLEY': 177, 'DIBRUGARH': 178, 'DIMA HASAO': 179, 'DIMAPUR': 180, 'DINAJPUR DAKSHIN': 181, 'DINAJPUR UTTAR': 182, 'DINDIGUL': 183, 'DINDORI': 184, 'DIU': 185, 'DODA': 186, 'DOHAD': 187, 'DUMKA': 188, 'DUNGARPUR': 189, 'DURG': 190, 'Daman and Diu': 191, 'Delhi': 192, 'EAST DISTRICT': 193, 'EAST GARO HILLS': 194, 'EAST GODAVARI': 195, 'EAST JAINTIA HILLS': 196, 'EAST KAMENG': 197, 'EAST KHASI HILLS': 198, 'EAST SIANG': 199, 'EAST SINGHBUM': 200, 'ERNAKULAM': 201, 'ERODE': 202, 'ETAH': 203, 'ETAWAH': 204, 'FAIZABAD': 205, 'FARIDABAD': 206, 'FARIDKOT': 207, 'FARRUKHABAD': 208, 'FATEHABAD': 209, 'FATEHGARH SAHIB': 210, 'FATEHPUR': 211, 'FAZILKA': 212, 'FIROZABAD': 213, 'FIROZEPUR': 214, 'GADAG': 215, 'GADCHIROLI': 216, 'GAJAPATI': 217, 'GANDERBAL': 218, 'GANDHINAGAR': 219, 'GANGANAGAR': 220, 'GANJAM': 221, 'GARHWA': 222, 'GARIYABAND': 223, 'GAURELLA-PENDRA-MARWAHI': 224, 'GAUTAM BUDDHA NAGAR': 225, 'GAYA': 226, 'GHAZIABAD': 227, 'GHAZIPUR': 228, 'GIR SOMNATH': 229, 'GIRIDIH': 230, 'GOALPARA': 231, 'GODDA': 232, 'GOLAGHAT': 233, 'GOMATI': 234, 'GONDA': 235, 'GONDIA': 236, 'GOPALGANJ': 237, 'GORAKHPUR': 238, 'GULBARGA': 239, 'GUMLA': 240, 'GUNA': 241, 'GUNTUR': 242, 'GURDASPUR': 243, 'GURGAON': 244, 'GWALIOR': 245, 'Goa': 246, 'HAILAKANDI': 247, 'HAMIRPUR': 248, 'HANUMAKONDA': 249, 'HANUMANGARH': 250, 'HAPUR': 251, 'HARDA': 252, 'HARDOI': 253, 'HARIDWAR': 254, 'HASSAN': 255, 'HATHRAS': 256, 'HAVERI': 257, 'HAZARIBAGH': 258, 'HINGOLI': 259, 'HISAR': 260, 'HOJAI': 261, 'HOOGHLY': 262, 'HOSHANGABAD': 263, 'HOSHIARPUR': 264, 'HOWRAH': 265, 'HYDERABAD': 266, 'IDUKKI': 267, 'IMPHAL EAST': 268, 'IMPHAL WEST': 269, 'INDORE': 270, 'JABALPUR': 271, 'JAGATSINGHAPUR': 272, 'JAGITIAL': 273, 'JAIPUR': 274, 'JAISALMER': 275, 'JAJAPUR': 276, 'JALANDHAR': 277, 'JALAUN': 278, 'JALGAON': 279, 'JALNA': 280, 'JALORE': 281, 'JALPAIGURI': 282, 'JAMMU': 283, 'JAMNAGAR': 284, 'JAMTARA': 285, 'JAMUI': 286, 'JANGOAN': 287, 'JANJGIR-CHAMPA': 288, 'JASHPUR': 289, 'JAUNPUR': 290, 'JAYASHANKAR': 291, 'JEHANABAD': 292, 'JHABUA': 293, 'JHAJJAR': 294, 'JHALAWAR': 295, 'JHANSI': 296, 'JHARGRAM': 297, 'JHARSUGUDA': 298, 'JHUNJHUNU': 299, 'JIND': 300, 'JODHPUR': 301, 'JOGULAMBA': 302, 'JORHAT': 303, 'JUNAGADH': 304, 'KABIRDHAM': 305, 'KACHCHH': 306, 'KADAPA': 307, 'KAIMUR (BHABUA)': 308, 'KAITHAL': 309, 'KALABURAGI': 310, 'KALAHANDI': 311, 'KALIMPONG': 312, 'KALLAKURICHI': 313, 'KAMAREDDY': 314, 'KAMLE': 315, 'KAMRUP': 316, 'KAMRUP METRO': 317, 'KANCHIPURAM': 318, 'KANDHAMAL': 319, 'KANGRA': 320, 'KANKER': 321, 'KANNAUJ': 322, 'KANNIYAKUMARI': 323, 'KANNUR': 324, 'KANPUR DEHAT': 325, 'KANPUR NAGAR': 326, 'KAPURTHALA': 327, 'KARAIKAL': 328, 'KARAULI': 329, 'KARBI ANGLONG': 330, 'KARGIL': 331, 'KARIMGANJ': 332, 'KARIMNAGAR': 333, 'KARNAL': 334, 'KARUR': 335, 'KASARAGOD': 336, 'KASGANJ': 337, 'KATHUA': 338, 'KATIHAR': 339, 'KATNI': 340, 'KAUSHAMBI': 341, 'KENDRAPARA': 342, 'KENDUJHAR': 343, 'KHAGARIA': 344, 'KHAMMAM': 345, 'KHANDWA': 346, 'KHARGONE': 347, 'KHEDA': 348, 'KHERI': 349, 'KHORDHA': 350, 'KHOWAI': 351, 'KHUNTI': 352, 'KINNAUR': 353, 'KIPHIRE': 354, 'KISHANGANJ': 355, 'KISHTWAR': 356, 'KODAGU': 357, 'KODERMA': 358, 'KOHIMA': 359, 'KOKRAJHAR': 360, 'KOLAR': 361, 'KOLASIB': 362, 'KOLHAPUR': 363, 'KOLLAM': 364, 'KOMARAM BHEEM ASIFABAD': 365, 'KONDAGAON': 366, 'KOPPAL': 367, 'KORAPUT': 368, 'KORBA': 369, 'KOREA': 370, 'KOTA': 371, 'KOTTAYAM': 372, 'KOZHIKODE': 373, 'KRA DAADI': 374, 'KRISHNA': 375, 'KRISHNAGIRI': 376, 'KULGAM': 377, 'KULLU': 378, 'KUPWARA': 379, 'KURNOOL': 380, 'KURUKSHETRA': 381, 'KURUNG KUMEY': 382, 'KUSHI NAGAR': 383, 'LAHUL AND SPITI': 384, 'LAKHIMPUR': 385, 'LAKHISARAI': 386, 'LALITPUR': 387, 'LATEHAR': 388, 'LATUR': 389, 'LAWNGTLAI': 390, 'LEH LADAKH': 391, 'LEPARADA': 392, 'LOHARDAGA': 393, 'LOHIT': 394, 'LONGDING': 395, 'LONGLENG': 396, 'LOWER DIBANG VALLEY': 397, 'LOWER SIANG': 398, 'LOWER SUBANSIRI': 399, 'LUCKNOW': 400, 'LUDHIANA': 401, 'LUNGLEI': 402, 'MADHEPURA': 403, 'MADHUBANI': 404, 'MADURAI': 405, 'MAHABUBABAD': 406, 'MAHARAJGANJ': 407, 'MAHASAMUND': 408, 'MAHBUBNAGAR': 409, 'MAHE': 410, 'MAHENDRAGARH': 411, 'MAHESANA': 412, 'MAHISAGAR': 413, 'MAHOBA': 414, 'MAINPURI': 415, 'MAJULI': 416, 'MALAPPURAM': 417, 'MALDAH': 418, 'MALKANGIRI': 419, 'MAMIT': 420, 'MANCHERIAL': 421, 'MANDI': 422, 'MANDLA': 423, 'MANDSAUR': 424, 'MANDYA': 425, 'MANSA': 426, 'MARIGAON': 427, 'MATHURA': 428, 'MAU': 429, 'MAYURBHANJ': 430, 'MEDAK': 431, 'MEDCHAL': 432, 'MEDCHAL MALKAJGIRI': 433, 'MEDINIPUR EAST': 434, 'MEDINIPUR WEST': 435, 'MEERUT': 436, 'MEWAT': 437, 'MIRZAPUR': 438, 'MOGA': 439, 'MOKOKCHUNG': 440, 'MON': 441, 'MORADABAD': 442, 'MORBI': 443, 'MORENA': 444, 'MUKTSAR': 445, 'MULUGU': 446, 'MUMBAI': 447, 'MUMBAI SUBURBAN': 448, 'MUNGELI': 449, 'MUNGER': 450, 'MURSHIDABAD': 451, 'MUZAFFARNAGAR': 452, 'MUZAFFARPUR': 453, 'MYSORE': 454, 'MYSURU': 455, 'NABARANGPUR': 456, 'NADIA': 457, 'NAGAON': 458, 'NAGAPATTINAM': 459, 'NAGARKURNOOL': 460, 'NAGAUR': 461, 'NAGPUR': 462, 'NAINITAL': 463, 'NALANDA': 464, 'NALBARI': 465, 'NALGONDA': 466, 'NAMAKKAL': 467, 'NAMSAI': 468, 'NANDED': 469, 'NANDURBAR': 470, 'NARAYANAPET': 471, 'NARAYANPUR': 472, 'NARMADA': 473, 'NARSINGHPUR': 474, 'NASHIK': 475, 'NAVSARI': 476, 'NAWADA': 477, 'NAWANSHAHR': 478, 'NAYAGARH': 479, 'NEEMUCH': 480, 'NICOBARS': 481, 'NIRMAL': 482, 'NIWARI': 483, 'NIZAMABAD': 484, 'NORTH AND MIDDLE ANDAMAN': 485, 'NORTH DISTRICT': 486, 'NORTH GARO HILLS': 487, 'NORTH GOA': 488, 'NORTH TRIPURA': 489, 'NUAPADA': 490, 'OSMANABAD': 491, 'PAKKE KESSANG': 492, 'PAKUR': 493, 'PALAKKAD': 494, 'PALAMU': 495, 'PALGHAR': 496, 'PALI': 497, 'PALWAL': 498, 'PANCH MAHALS': 499, 'PANCHKULA': 500, 'PANIPAT': 501, 'PANNA': 502, 'PAPUM PARE': 503, 'PARBHANI': 504, 'PASCHIM BARDHAMAN': 505, 'PASHCHIM CHAMPARAN': 506, 'PATAN': 507, 'PATHANAMTHITTA': 508, 'PATHANKOT': 509, 'PATIALA': 510, 'PATNA': 511, 'PAURI GARHWAL': 512, 'PEDDAPALLI': 513, 'PERAMBALUR': 514, 'PEREN': 515, 'PHEK': 516, 'PILIBHIT': 517, 'PITHORAGARH': 518, 'PONDICHERRY': 519, 'POONCH': 520, 'PORBANDAR': 521, 'PRAKASAM': 522, 'PRATAPGARH': 523, 'PUDUKKOTTAI': 524, 'PULWAMA': 525, 'PUNE': 526, 'PURBA BARDHAMAN': 527, 'PURBI CHAMPARAN': 528, 'PURI': 529, 'PURNIA': 530, 'PURULIA': 531, 'RAE BARELI': 532, 'RAICHUR': 533, 'RAIGAD': 534, 'RAIGARH': 535, 'RAIPUR': 536, 'RAISEN': 537, 'RAJANNA': 538, 'RAJAURI': 539, 'RAJGARH': 540, 'RAJKOT': 541, 'RAJNANDGAON': 542, 'RAJSAMAND': 543, 'RAMANAGARA': 544, 'RAMANATHAPURAM': 545, 'RAMBAN': 546, 'RAMGARH': 547, 'RAMPUR': 548, 'RANCHI': 549, 'RANGAREDDI': 550, 'RANIPET': 551, 'RATLAM': 552, 'RATNAGIRI': 553, 'RAYAGADA': 554, 'REASI': 555, 'REWA': 556, 'REWARI': 557, 'RI BHOI': 558, 'ROHTAK': 559, 'ROHTAS': 560, 'RUDRA PRAYAG': 561, 'RUPNAGAR': 562, 'S': 563, 'SABAR KANTHA': 564, 'SAGAR': 565, 'SAHARANPUR': 566, 'SAHARSA': 567, 'SAHEBGANJ': 568, 'SAIHA': 569, 'SALEM': 570, 'SAMASTIPUR': 571, 'SAMBA': 572, 'SAMBALPUR': 573, 'SAMBHAL': 574, 'SANGAREDDY': 575, 'SANGLI': 576, 'SANGRUR': 577, 'SANT KABEER NAGAR': 578, 'SANT RAVIDAS NAGAR': 579, 'SARAIKELA KHARSAWAN': 580, 'SARAN': 581, 'SATARA': 582, 'SATNA': 583, 'SAWAI MADHOPUR': 584, 'SEHORE': 585, 'SENAPATI': 586, 'SEONI': 587, 'SEPAHIJALA': 588, 'SERCHHIP': 589, 'SHAHDOL': 590, 'SHAHID BHAGAT SINGH NAGAR': 591, 'SHAHJAHANPUR': 592, 'SHAJAPUR': 593, 'SHAMLI': 594, 'SHEIKHPURA': 595, 'SHEOHAR': 596, 'SHEOPUR': 597, 'SHI YOMI': 598, 'SHIMLA': 599, 'SHIMOGA': 600, 'SHIVAMOGGA': 601, 'SHIVPURI': 602, 'SHOPIAN': 603, 'SHRAVASTI': 604, 'SIANG': 605, 'SIDDHARTH NAGAR': 606, 'SIDDIPET': 607, 'SIDHI': 608, 'SIKAR': 609, 'SIMDEGA': 610, 'SINDHUDURG': 611, 'SINGRAULI': 612, 'SIRMAUR': 613, 'SIROHI': 614, 'SIRSA': 615, 'SITAMARHI': 616, 'SITAPUR': 617, 'SIVAGANGA': 618, 'SIVASAGAR': 619, 'SIWAN': 620, 'SOLAN': 621, 'SOLAPUR': 622, 'SONBHADRA': 623, 'SONEPUR': 624, 'SONIPAT': 625, 'SONITPUR': 626, 'SOUTH ANDAMANS': 627, 'SOUTH DISTRICT': 628, 'SOUTH GARO HILLS': 629, 'SOUTH GOA': 630, 'SOUTH SALMARA MANCACHAR': 631, 'SOUTH TRIPURA': 632, 'SOUTH WEST GARO HILLS': 633, 'SOUTH WEST KHASI HILLS': 634, 'SPSR NELLORE': 635, 'SRIKAKULAM': 636, 'SRINAGAR': 637, 'SUKMA': 638, 'SULTANPUR': 639, 'SUNDARGARH': 640, 'SUPAUL': 641, 'SURAJPUR': 642, 'SURAT': 643, 'SURENDRANAGAR': 644, 'SURGUJA': 645, 'SURYAPET': 646, 'TAMENGLONG': 647, 'TAPI': 648, 'TARN TARAN': 649, 'TAWANG': 650, 'TEHRI GARHWAL': 651, 'TENKASI': 652, 'THANE': 653, 'THANJAVUR': 654, 'THE NILGIRIS': 655, 'THENI': 656, 'THIRUVALLUR': 657, 'THIRUVANANTHAPURAM': 658, 'THIRUVARUR': 659, 'THOOTHUKUDI': 660, 'THOUBAL': 661, 'THRISSUR': 662, 'TIKAMGARH': 663, 'TINSUKIA': 664, 'TIRAP': 665, 'TIRUCHIRAPPALLI': 666, 'TIRUNELVELI': 667, 'TIRUPATHUR': 668, 'TIRUPPUR': 669, 'TIRUVANNAMALAI': 670, 'TONK': 671, 'TUENSANG': 672, 'TUMAKURU': 673, 'TUMKUR': 674, 'TUTICORIN': 675, 'UDAIPUR': 676, 'UDALGURI': 677, 'UDAM SINGH NAGAR': 678, 'UDHAMPUR': 679, 'UDUPI': 680, 'UJJAIN': 681, 'UKHRUL': 682, 'UMARIA': 683, 'UNA': 684, 'UNAKOTI': 685, 'UNNAO': 686, 'UPPER SIANG': 687, 'UPPER SUBANSIRI': 688, 'UTTAR KANNAD': 689, 'UTTAR KASHI': 690, 'UTTARA KANNADA': 691, 'VADODARA': 692, 'VAISHALI': 693, 'VALSAD': 694, 'VARANASI': 695, 'VELLORE': 696, 'VIDISHA': 697, 'VIJAYAPURA': 698, 'VIKARABAD': 699, 'VILLUPURAM': 700, 'VIRUDHUNAGAR': 701, 'VISAKHAPATANAM': 702, 'VIZIANAGARAM': 703, 'WANAPARTHY': 704, 'WARANGAL': 705, 'WARANGAL URBAN': 706, 'WARDHA': 707, 'WASHIM': 708, 'WAYANAD': 709, 'WEST DISTRICT': 710, 'WEST GARO HILLS': 711, 'WEST GODAVARI': 712, 'WEST JAINTIA HILLS': 713, 'WEST KAMENG': 714, 'WEST KARBI ANGLONG': 715, 'WEST KHASI HILLS': 716, 'WEST SIANG': 717, 'WEST SINGHBHUM': 718, 'WEST TRIPURA': 719, 'WOKHA': 720, 'YADADRI': 721, 'YADAGIRI': 722, 'YADGIR': 723, 'YAMUNANAGAR': 724, 'YANAM': 725, 'YAVATMAL': 726, 'ZUNHEBOTO': 727}, 'Crop': {'Arecanut': 0, 'Arhar/Tur': 1, 'Bajra': 2, 'Banana': 3, 'Barley': 4, 'Black pepper': 5, 'Cardamom': 6, 'Cashewnut': 7, 'Castor seed': 8, 'Coriander': 9, 'Cowpea(Lobia)': 10, 'Dry chillies': 11, 'Garlic': 12, 'Ginger': 13, 'Gram': 14, 'Groundnut': 15, 'Guar seed': 16, 'Horse-gram': 17, 'Jowar': 18, 'Khesari': 19, 'Linseed': 20, 'Maize': 21, 'Masoor': 22, 'Moong(Green Gram)': 23, 'Moth': 24, 'Niger seed': 25, 'Oilseeds total': 26, 'Onion': 27, 'Other Cereals': 28, 'Other Kharif pulses': 29, 'Other Rabi pulses': 30, 'Other Summer Pulses': 31, 'Peas & beans (Pulses)': 32, 'Potato': 33, 'Ragi': 34, 'Rapeseed &Mustard': 35, 'Rice': 36, 'Safflower': 37, 'Sannhamp': 38, 'Sesamum': 39, 'Small millets': 40, 'Soyabean': 41, 'Sugarcane': 42, 'Sunflower': 43, 'Sweet potato': 44, 'Tapioca': 45, 'Tobacco': 46, 'Turmeric': 47, 'Urad': 48, 'Wheat': 49, 'other oilseeds': 50}, 'Season': {'Autumn': 0, 'Kharif': 1, 'Rabi': 2, 'Summer': 3, 'Whole Year': 4, 'Winter': 5}}\n"
     ]
    }
   ],
   "source": [
    "for col in category_col:\n",
    "    data[col]=labelEncoder.fit_transform(data[col])\n",
    "    le_name_mapping =dict(zip(labelEncoder.classes_,\n",
    "                              labelEncoder.transform(labelEncoder.classes_)))\n",
    "    mapping_dict[col]=le_name_mapping\n",
    "print(mapping_dict)\n",
    "                "
   ]
  },
  {
   "cell_type": "code",
   "execution_count": 23,
   "id": "81f8d53a",
   "metadata": {},
   "outputs": [
    {
     "data": {
      "text/html": [
       "<div>\n",
       "<style scoped>\n",
       "    .dataframe tbody tr th:only-of-type {\n",
       "        vertical-align: middle;\n",
       "    }\n",
       "\n",
       "    .dataframe tbody tr th {\n",
       "        vertical-align: top;\n",
       "    }\n",
       "\n",
       "    .dataframe thead th {\n",
       "        text-align: right;\n",
       "    }\n",
       "</style>\n",
       "<table border=\"1\" class=\"dataframe\">\n",
       "  <thead>\n",
       "    <tr style=\"text-align: right;\">\n",
       "      <th></th>\n",
       "      <th>State</th>\n",
       "      <th>District</th>\n",
       "      <th>Crop</th>\n",
       "      <th>Season</th>\n",
       "      <th>Area</th>\n",
       "      <th>Production</th>\n",
       "    </tr>\n",
       "  </thead>\n",
       "  <tbody>\n",
       "    <tr>\n",
       "      <th>0</th>\n",
       "      <td>0</td>\n",
       "      <td>481</td>\n",
       "      <td>0</td>\n",
       "      <td>1</td>\n",
       "      <td>1254.0</td>\n",
       "      <td>2061.0</td>\n",
       "    </tr>\n",
       "    <tr>\n",
       "      <th>1</th>\n",
       "      <td>0</td>\n",
       "      <td>481</td>\n",
       "      <td>0</td>\n",
       "      <td>4</td>\n",
       "      <td>1258.0</td>\n",
       "      <td>2083.0</td>\n",
       "    </tr>\n",
       "    <tr>\n",
       "      <th>2</th>\n",
       "      <td>0</td>\n",
       "      <td>481</td>\n",
       "      <td>0</td>\n",
       "      <td>4</td>\n",
       "      <td>1261.0</td>\n",
       "      <td>1525.0</td>\n",
       "    </tr>\n",
       "    <tr>\n",
       "      <th>3</th>\n",
       "      <td>0</td>\n",
       "      <td>485</td>\n",
       "      <td>0</td>\n",
       "      <td>1</td>\n",
       "      <td>3100.0</td>\n",
       "      <td>5239.0</td>\n",
       "    </tr>\n",
       "    <tr>\n",
       "      <th>4</th>\n",
       "      <td>0</td>\n",
       "      <td>627</td>\n",
       "      <td>0</td>\n",
       "      <td>4</td>\n",
       "      <td>3105.0</td>\n",
       "      <td>5267.0</td>\n",
       "    </tr>\n",
       "    <tr>\n",
       "      <th>...</th>\n",
       "      <td>...</td>\n",
       "      <td>...</td>\n",
       "      <td>...</td>\n",
       "      <td>...</td>\n",
       "      <td>...</td>\n",
       "      <td>...</td>\n",
       "    </tr>\n",
       "    <tr>\n",
       "      <th>345370</th>\n",
       "      <td>35</td>\n",
       "      <td>527</td>\n",
       "      <td>49</td>\n",
       "      <td>2</td>\n",
       "      <td>6310.0</td>\n",
       "      <td>15280.0</td>\n",
       "    </tr>\n",
       "    <tr>\n",
       "      <th>345371</th>\n",
       "      <td>35</td>\n",
       "      <td>531</td>\n",
       "      <td>49</td>\n",
       "      <td>2</td>\n",
       "      <td>1895.0</td>\n",
       "      <td>2760.0</td>\n",
       "    </tr>\n",
       "    <tr>\n",
       "      <th>345372</th>\n",
       "      <td>35</td>\n",
       "      <td>531</td>\n",
       "      <td>49</td>\n",
       "      <td>2</td>\n",
       "      <td>3736.0</td>\n",
       "      <td>5530.0</td>\n",
       "    </tr>\n",
       "    <tr>\n",
       "      <th>345373</th>\n",
       "      <td>35</td>\n",
       "      <td>531</td>\n",
       "      <td>49</td>\n",
       "      <td>2</td>\n",
       "      <td>2752.0</td>\n",
       "      <td>6928.0</td>\n",
       "    </tr>\n",
       "    <tr>\n",
       "      <th>345374</th>\n",
       "      <td>35</td>\n",
       "      <td>531</td>\n",
       "      <td>49</td>\n",
       "      <td>2</td>\n",
       "      <td>2979.0</td>\n",
       "      <td>7430.0</td>\n",
       "    </tr>\n",
       "  </tbody>\n",
       "</table>\n",
       "<p>326996 rows × 6 columns</p>\n",
       "</div>"
      ],
      "text/plain": [
       "        State  District  Crop  Season    Area  Production\n",
       "0           0       481     0       1  1254.0      2061.0\n",
       "1           0       481     0       4  1258.0      2083.0\n",
       "2           0       481     0       4  1261.0      1525.0\n",
       "3           0       485     0       1  3100.0      5239.0\n",
       "4           0       627     0       4  3105.0      5267.0\n",
       "...       ...       ...   ...     ...     ...         ...\n",
       "345370     35       527    49       2  6310.0     15280.0\n",
       "345371     35       531    49       2  1895.0      2760.0\n",
       "345372     35       531    49       2  3736.0      5530.0\n",
       "345373     35       531    49       2  2752.0      6928.0\n",
       "345374     35       531    49       2  2979.0      7430.0\n",
       "\n",
       "[326996 rows x 6 columns]"
      ]
     },
     "execution_count": 23,
     "metadata": {},
     "output_type": "execute_result"
    }
   ],
   "source": [
    "data"
   ]
  },
  {
   "cell_type": "code",
   "execution_count": 24,
   "id": "888a010d",
   "metadata": {},
   "outputs": [],
   "source": [
    "# Split the data into features (X) and target variable (Y)\n",
    "X=data.drop('Production',axis=1)\n",
    "Y=data['Production']"
   ]
  },
  {
   "cell_type": "code",
   "execution_count": 25,
   "id": "ae8efdd1",
   "metadata": {},
   "outputs": [],
   "source": [
    "# Scale the features\n",
    "from sklearn.preprocessing import MinMaxScaler\n",
    "scalar=MinMaxScaler()\n",
    "scalar.fit(X)\n",
    "scaled_data=scalar.transform(X)"
   ]
  },
  {
   "cell_type": "code",
   "execution_count": 26,
   "id": "b4c743ef",
   "metadata": {},
   "outputs": [],
   "source": [
    "# Split the data into training and testing sets\n",
    "x_train,x_test,y_train,y_test=train_test_split(scaled_data,Y,test_size=0.25,random_state=234)"
   ]
  },
  {
   "cell_type": "code",
   "execution_count": 27,
   "id": "ba3926ac",
   "metadata": {},
   "outputs": [],
   "source": [
    "# Train a Random Forest Regression model\n",
    "model=RandomForestRegressor(n_estimators=20,max_depth=10,criterion='mse')"
   ]
  },
  {
   "cell_type": "code",
   "execution_count": 28,
   "id": "8542ebbb",
   "metadata": {},
   "outputs": [
    {
     "data": {
      "text/plain": [
       "RandomForestRegressor(criterion='mse', max_depth=10, n_estimators=20)"
      ]
     },
     "execution_count": 28,
     "metadata": {},
     "output_type": "execute_result"
    }
   ],
   "source": [
    "# To fit the model\n",
    "model.fit(x_train,y_train)"
   ]
  },
  {
   "cell_type": "code",
   "execution_count": 29,
   "id": "901eb1a1",
   "metadata": {},
   "outputs": [
    {
     "data": {
      "text/plain": [
       "array([14213.19775799,   424.7378482 ,  1459.24167358, ...,\n",
       "          91.26021436,    57.63463662,   925.04030211])"
      ]
     },
     "execution_count": 29,
     "metadata": {},
     "output_type": "execute_result"
    }
   ],
   "source": [
    "# Make predictions on the test set\n",
    "y_pred=model.predict(x_test)\n",
    "y_pred"
   ]
  },
  {
   "cell_type": "code",
   "execution_count": 30,
   "id": "d3a5df62",
   "metadata": {},
   "outputs": [
    {
     "data": {
      "text/plain": [
       "0.9637671147055905"
      ]
     },
     "execution_count": 30,
     "metadata": {},
     "output_type": "execute_result"
    }
   ],
   "source": [
    "# Calculate the R-squared score\n",
    "r2_score(y_test,y_pred)"
   ]
  }
 ],
 "metadata": {
  "kernelspec": {
   "display_name": "Python 3 (ipykernel)",
   "language": "python",
   "name": "python3"
  },
  "language_info": {
   "codemirror_mode": {
    "name": "ipython",
    "version": 3
   },
   "file_extension": ".py",
   "mimetype": "text/x-python",
   "name": "python",
   "nbconvert_exporter": "python",
   "pygments_lexer": "ipython3",
   "version": "3.9.12"
  }
 },
 "nbformat": 4,
 "nbformat_minor": 5
}
